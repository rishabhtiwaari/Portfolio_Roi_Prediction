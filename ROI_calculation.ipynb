{
 "cells": [
  {
   "cell_type": "code",
   "execution_count": 1,
   "id": "77b5f6fd",
   "metadata": {},
   "outputs": [],
   "source": [
    "import numpy as np\n",
    "import gurobipy as gp\n",
    "import pandas as pd"
   ]
  },
  {
   "cell_type": "code",
   "execution_count": 2,
   "id": "c77e87e0",
   "metadata": {},
   "outputs": [
    {
     "data": {
      "text/plain": [
       "Index(['Print', 'TV', 'SEO', 'AdWords', 'Facebook', 'LinkedIn', 'Instagram',\n",
       "       'Snapchat', 'Twitter', 'Email'],\n",
       "      dtype='object')"
      ]
     },
     "execution_count": 2,
     "metadata": {},
     "output_type": "execute_result"
    }
   ],
   "source": [
    "ROI_data = pd.read_csv('ROI_data.csv')\n",
    "ROI_data.columns[1:]"
   ]
  },
  {
   "cell_type": "code",
   "execution_count": 3,
   "id": "2e071a66",
   "metadata": {},
   "outputs": [],
   "source": [
    "ROI_values = ROI_data.iloc[0,:].to_list()[1:]"
   ]
  },
  {
   "cell_type": "code",
   "execution_count": 4,
   "id": "c6dcdf02",
   "metadata": {},
   "outputs": [],
   "source": [
    "#Define optimization function \n",
    "\n",
    "def optimize(obj_func,constr_matrix,constr_signs, constr_limits, max_min):\n",
    "    obj_mod = gp.Model()\n",
    "    num_rows,num_cols = constr_matrix.shape\n",
    "    obj_mod_X = obj_mod.addMVar(num_cols)\n",
    "    obj_mod_cons = obj_mod.addMConstr(constr_matrix,obj_mod_X,constr_signs,constr_limits)\n",
    "        \n",
    "    if  max_min == 'max' :\n",
    "        obj_mod.setMObjective(None, obj_func, 0, sense = gp.GRB.MAXIMIZE)\n",
    "    else :\n",
    "        obj_mod.setMObjective(None, obj_func, 0, sense = gp.GRB.MINIMIZE)\n",
    "    \n",
    "    obj_mod.Params.OutputFlag = 0\n",
    "    obj_mod.Params.TimeLimit = 3600\n",
    "\n",
    "    obj_mod.optimize()\n",
    "    \n",
    "    optimal_val = obj_mod.objVal \n",
    "    variable_val_at_optimal_soln = obj_mod_X.x\n",
    "\n",
    "    return optimal_val, variable_val_at_optimal_soln"
   ]
  },
  {
   "cell_type": "markdown",
   "id": "1fa7f384",
   "metadata": {},
   "source": [
    "## Task 3"
   ]
  },
  {
   "cell_type": "code",
   "execution_count": 5,
   "id": "17465674",
   "metadata": {},
   "outputs": [],
   "source": [
    "obj_func = np.array(ROI_values) #define objective vector\n",
    "constr_matrix = np.zeros((13,10)) #initializing constraint matrix\n",
    "constr_matrix[0,:] = [1,1,1,1,1,1,1,1,1,1]\n",
    "constr_matrix[1,:] = [-1,-1,0,0,1,0,0,0,0,1] \n",
    "constr_matrix[2,:] = [0,0,-2,-2,1,1,1,1,1,0]\n",
    "constr_matrix[3:,:] = np.identity(10)\n",
    "constr_limits = [10,0,0,3,3,3,3,3,3,3,3,3,3]\n",
    "constr_signs = ['<','>','>','<','<','<','<','<','<','<','<','<','<']"
   ]
  },
  {
   "cell_type": "code",
   "execution_count": 6,
   "id": "4bb95f13",
   "metadata": {},
   "outputs": [
    {
     "name": "stdout",
     "output_type": "stream",
     "text": [
      "Set parameter Username\n",
      "Academic license - for non-commercial use only - expires 2023-09-14\n"
     ]
    }
   ],
   "source": [
    "optimal_value_1, variable_values= optimize(obj_func,constr_matrix,constr_signs,constr_limits,'max')"
   ]
  },
  {
   "cell_type": "code",
   "execution_count": 203,
   "id": "920d1be9",
   "metadata": {},
   "outputs": [
    {
     "data": {
      "text/plain": [
       "0.45600000000000007"
      ]
     },
     "execution_count": 203,
     "metadata": {},
     "output_type": "execute_result"
    }
   ],
   "source": [
    "optimal_value_1"
   ]
  },
  {
   "cell_type": "code",
   "execution_count": 204,
   "id": "0ca8b3e3",
   "metadata": {},
   "outputs": [
    {
     "data": {
      "text/plain": [
       "array([0., 3., 0., 1., 0., 0., 3., 0., 0., 3.])"
      ]
     },
     "execution_count": 204,
     "metadata": {},
     "output_type": "execute_result"
    }
   ],
   "source": [
    "variable_values"
   ]
  },
  {
   "cell_type": "markdown",
   "id": "679af7e0",
   "metadata": {},
   "source": [
    "## Task 4"
   ]
  },
  {
   "cell_type": "code",
   "execution_count": 7,
   "id": "992d11a7",
   "metadata": {},
   "outputs": [],
   "source": [
    "ROI_values_second_firm = ROI_data.iloc[1,:].to_list()[1:]"
   ]
  },
  {
   "cell_type": "code",
   "execution_count": 8,
   "id": "968cbd6d",
   "metadata": {},
   "outputs": [],
   "source": [
    "obj_func_2 = np.array(ROI_values_second_firm)"
   ]
  },
  {
   "cell_type": "code",
   "execution_count": 9,
   "id": "5cb09562",
   "metadata": {},
   "outputs": [
    {
     "data": {
      "text/plain": [
       "(0.45600000000000007, array([3., 0., 0., 1., 3., 3., 0., 0., 0., 0.]))"
      ]
     },
     "execution_count": 9,
     "metadata": {},
     "output_type": "execute_result"
    }
   ],
   "source": [
    "optimize(obj_func_2,constr_matrix,constr_signs,constr_limits,'max')"
   ]
  },
  {
   "cell_type": "markdown",
   "id": "be9c582d",
   "metadata": {},
   "source": [
    "## Task 5"
   ]
  },
  {
   "cell_type": "code",
   "execution_count": null,
   "id": "0191b758",
   "metadata": {},
   "outputs": [],
   "source": []
  },
  {
   "cell_type": "code",
   "execution_count": 203,
   "id": "d68e9691",
   "metadata": {},
   "outputs": [
    {
     "data": {
      "text/plain": [
       "0.45600000000000007"
      ]
     },
     "execution_count": 203,
     "metadata": {},
     "output_type": "execute_result"
    }
   ],
   "source": [
    "optimal_val"
   ]
  },
  {
   "cell_type": "code",
   "execution_count": 204,
   "id": "d88e6416",
   "metadata": {},
   "outputs": [
    {
     "data": {
      "text/plain": [
       "array([0., 3., 0., 1., 0., 0., 3., 0., 0., 3.])"
      ]
     },
     "execution_count": 204,
     "metadata": {},
     "output_type": "execute_result"
    }
   ],
   "source": [
    "variable_val_at_optimal_soln"
   ]
  },
  {
   "cell_type": "markdown",
   "id": "c9645a01",
   "metadata": {},
   "source": [
    "## Task 6"
   ]
  },
  {
   "cell_type": "code",
   "execution_count": 10,
   "id": "c3915114",
   "metadata": {},
   "outputs": [],
   "source": [
    "obj_mod = gp.Model()\n",
    "num_rows,num_cols = constr_matrix.shape\n",
    "obj_mod_X = obj_mod.addMVar(num_cols)\n",
    "obj_mod_cons = obj_mod.addMConstr(constr_matrix,obj_mod_X,constr_signs,constr_limits)\n",
    "\n",
    "obj_mod.setMObjective(None, obj_func, 0, sense = gp.GRB.MAXIMIZE)\n",
    "obj_mod.Params.OutputFlag = 0\n",
    "obj_mod.Params.TimeLimit = 3600\n",
    "\n",
    "obj_mod.optimize()\n",
    "\n",
    "optimal_val = obj_mod.objVal \n",
    "variable_val_at_optimal_soln = obj_mod_X.x"
   ]
  },
  {
   "cell_type": "code",
   "execution_count": 11,
   "id": "0325b446",
   "metadata": {},
   "outputs": [
    {
     "data": {
      "text/plain": [
       "0.45600000000000007"
      ]
     },
     "execution_count": 11,
     "metadata": {},
     "output_type": "execute_result"
    }
   ],
   "source": [
    "optimal_val"
   ]
  },
  {
   "cell_type": "code",
   "execution_count": 12,
   "id": "3c6aae62",
   "metadata": {},
   "outputs": [
    {
     "data": {
      "text/plain": [
       "array([0., 3., 0., 1., 0., 0., 3., 0., 0., 3.])"
      ]
     },
     "execution_count": 12,
     "metadata": {},
     "output_type": "execute_result"
    }
   ],
   "source": [
    "variable_val_at_optimal_soln"
   ]
  },
  {
   "cell_type": "code",
   "execution_count": 13,
   "id": "f139b3ca",
   "metadata": {},
   "outputs": [],
   "source": [
    "low = obj_mod_X.SAObjLow"
   ]
  },
  {
   "cell_type": "code",
   "execution_count": 14,
   "id": "5f1bde9e",
   "metadata": {},
   "outputs": [],
   "source": [
    "high = obj_mod_X.SAObjUp"
   ]
  },
  {
   "cell_type": "code",
   "execution_count": 15,
   "id": "2b5354c4",
   "metadata": {},
   "outputs": [],
   "source": [
    "list1 = [low,high]"
   ]
  },
  {
   "cell_type": "code",
   "execution_count": 16,
   "id": "e9ed42fb",
   "metadata": {},
   "outputs": [],
   "source": [
    "low_high_limits = pd.DataFrame(list1).rename(index = {0 : 'Low', 1: 'High'})"
   ]
  },
  {
   "cell_type": "code",
   "execution_count": 17,
   "id": "39d9795d",
   "metadata": {},
   "outputs": [],
   "source": [
    "low_high_limits.columns = ROI_data.columns[1:]"
   ]
  },
  {
   "cell_type": "code",
   "execution_count": 18,
   "id": "880c3d76",
   "metadata": {},
   "outputs": [
    {
     "data": {
      "text/html": [
       "<div>\n",
       "<style scoped>\n",
       "    .dataframe tbody tr th:only-of-type {\n",
       "        vertical-align: middle;\n",
       "    }\n",
       "\n",
       "    .dataframe tbody tr th {\n",
       "        vertical-align: top;\n",
       "    }\n",
       "\n",
       "    .dataframe thead th {\n",
       "        text-align: right;\n",
       "    }\n",
       "</style>\n",
       "<table border=\"1\" class=\"dataframe\">\n",
       "  <thead>\n",
       "    <tr style=\"text-align: right;\">\n",
       "      <th></th>\n",
       "      <th>Print</th>\n",
       "      <th>TV</th>\n",
       "      <th>SEO</th>\n",
       "      <th>AdWords</th>\n",
       "      <th>Facebook</th>\n",
       "      <th>LinkedIn</th>\n",
       "      <th>Instagram</th>\n",
       "      <th>Snapchat</th>\n",
       "      <th>Twitter</th>\n",
       "      <th>Email</th>\n",
       "    </tr>\n",
       "  </thead>\n",
       "  <tbody>\n",
       "    <tr>\n",
       "      <th>Low</th>\n",
       "      <td>-inf</td>\n",
       "      <td>0.039</td>\n",
       "      <td>-inf</td>\n",
       "      <td>0.033</td>\n",
       "      <td>-inf</td>\n",
       "      <td>-inf</td>\n",
       "      <td>0.039</td>\n",
       "      <td>-inf</td>\n",
       "      <td>-inf</td>\n",
       "      <td>0.029</td>\n",
       "    </tr>\n",
       "    <tr>\n",
       "      <th>High</th>\n",
       "      <td>0.049</td>\n",
       "      <td>0.062</td>\n",
       "      <td>0.039</td>\n",
       "      <td>0.046</td>\n",
       "      <td>0.029</td>\n",
       "      <td>0.039</td>\n",
       "      <td>inf</td>\n",
       "      <td>0.039</td>\n",
       "      <td>0.039</td>\n",
       "      <td>inf</td>\n",
       "    </tr>\n",
       "  </tbody>\n",
       "</table>\n",
       "</div>"
      ],
      "text/plain": [
       "      Print     TV    SEO  AdWords  Facebook  LinkedIn  Instagram  Snapchat  \\\n",
       "Low    -inf  0.039   -inf    0.033      -inf      -inf      0.039      -inf   \n",
       "High  0.049  0.062  0.039    0.046     0.029     0.039        inf     0.039   \n",
       "\n",
       "      Twitter  Email  \n",
       "Low      -inf  0.029  \n",
       "High    0.039    inf  "
      ]
     },
     "execution_count": 18,
     "metadata": {},
     "output_type": "execute_result"
    }
   ],
   "source": [
    "low_high_limits"
   ]
  },
  {
   "cell_type": "markdown",
   "id": "b47ea96d",
   "metadata": {},
   "source": [
    "## Task 7"
   ]
  },
  {
   "cell_type": "code",
   "execution_count": 25,
   "id": "4d14b5c8",
   "metadata": {},
   "outputs": [],
   "source": [
    "roi_monthly_data = pd.read_csv('roi_mat.csv')"
   ]
  },
  {
   "cell_type": "code",
   "execution_count": 26,
   "id": "d7abf5fd",
   "metadata": {},
   "outputs": [],
   "source": [
    "roi_monthly_data.set_index(roi_monthly_data.columns[0], inplace = True)"
   ]
  },
  {
   "cell_type": "code",
   "execution_count": 27,
   "id": "29eb2727",
   "metadata": {},
   "outputs": [],
   "source": [
    "roi_monthly_data_array = np.array(roi_monthly_data)"
   ]
  },
  {
   "cell_type": "code",
   "execution_count": 140,
   "id": "7770cc3b",
   "metadata": {},
   "outputs": [],
   "source": [
    "constr_limits = [10,0,0,3,3,3,3,3,3,3,3,3,3]"
   ]
  },
  {
   "cell_type": "code",
   "execution_count": 141,
   "id": "7e3ce50d",
   "metadata": {},
   "outputs": [
    {
     "data": {
      "text/plain": [
       "[10, 0, 0, 3, 3, 3, 3, 3, 3, 3, 3, 3, 3]"
      ]
     },
     "execution_count": 141,
     "metadata": {},
     "output_type": "execute_result"
    }
   ],
   "source": [
    "roi_monthly_data_array\n",
    "constr_limits"
   ]
  },
  {
   "cell_type": "code",
   "execution_count": 142,
   "id": "82fc3fb7",
   "metadata": {},
   "outputs": [
    {
     "name": "stdout",
     "output_type": "stream",
     "text": [
      "budget for month  1 : 10\n",
      "ROI for month 1 : 37.3\n",
      "budget for month  2 : 10.1865\n",
      "ROI for month 2 : 40.629599999999996\n",
      "budget for month  3 : 10.389648000000001\n",
      "ROI for month 3 : 41.4416976\n",
      "budget for month  4 : 10.596856488\n",
      "ROI for month 4 : 41.448683356800004\n",
      "budget for month  5 : 10.804099904784\n",
      "ROI for month 5 : 43.214349666744\n",
      "budget for month  6 : 11.02017165311772\n",
      "ROI for month 6 : 45.47665228184733\n",
      "budget for month  7 : 11.247554914526956\n",
      "ROI for month 7 : 46.86546416665513\n",
      "budget for month  8 : 11.481882235360231\n",
      "ROI for month 8 : 48.79661131005956\n",
      "budget for month  9 : 11.725865291910528\n",
      "ROI for month 9 : 45.92199484466448\n",
      "budget for month  10 : 11.95547526613385\n",
      "ROI for month 10 : 42.75752085162832\n",
      "budget for month  11 : 12.169262870391993\n",
      "ROI for month 11 : 51.73755681180984\n",
      "budget for month  12 : 12.427950654451042\n",
      "ROI for month 12 : 51.68341742146885\n"
     ]
    }
   ],
   "source": [
    "optimal_obj_val = []\n",
    "optimal_variable_vals = np.zeros((12,10))\n",
    "monthly_budget = []\n",
    "for i in range(len(roi_monthly_data_array)):\n",
    "    print(\"budget for month \",i+1,\":\",constr_limits[0])\n",
    "    monthly_budget.append(constr_limits[0])\n",
    "    obj_funct_i = roi_monthly_data_array[i]\n",
    "    #print(obj_funct_i)\n",
    "    #optimal_obj_val.append(optimize(obj_funct_i,constr_matrix,constr_signs, constr_limits, 'max')[0])\n",
    "    roi_1 = optimize(obj_funct_i,constr_matrix,constr_signs, constr_limits, 'max')[0]\n",
    "    optimal_obj_val.append(roi_1)\n",
    "    optimal_variable_vals[i,:] = (optimize(obj_funct_i,constr_matrix,constr_signs, constr_limits, 'max')[1])\n",
    "    print(\"ROI for month\",i+1,':', roi_1)\n",
    "    constr_limits[0] = constr_limits[0] + (roi_1*0.01)/2\n",
    "#     constr_limits[0] = (10 + (optimal_obj_val[i]/2))"
   ]
  },
  {
   "cell_type": "code",
   "execution_count": 143,
   "id": "4b01cd74",
   "metadata": {},
   "outputs": [
    {
     "data": {
      "text/html": [
       "<div>\n",
       "<style scoped>\n",
       "    .dataframe tbody tr th:only-of-type {\n",
       "        vertical-align: middle;\n",
       "    }\n",
       "\n",
       "    .dataframe tbody tr th {\n",
       "        vertical-align: top;\n",
       "    }\n",
       "\n",
       "    .dataframe thead th {\n",
       "        text-align: right;\n",
       "    }\n",
       "</style>\n",
       "<table border=\"1\" class=\"dataframe\">\n",
       "  <thead>\n",
       "    <tr style=\"text-align: right;\">\n",
       "      <th></th>\n",
       "      <th>Print</th>\n",
       "      <th>TV</th>\n",
       "      <th>SEO</th>\n",
       "      <th>AdWords</th>\n",
       "      <th>Facebook</th>\n",
       "      <th>LinkedIn</th>\n",
       "      <th>Instagram</th>\n",
       "      <th>Snapchat</th>\n",
       "      <th>Twitter</th>\n",
       "      <th>Email</th>\n",
       "    </tr>\n",
       "  </thead>\n",
       "  <tbody>\n",
       "    <tr>\n",
       "      <th>January</th>\n",
       "      <td>3.000000</td>\n",
       "      <td>0.0</td>\n",
       "      <td>0.0</td>\n",
       "      <td>1.333333</td>\n",
       "      <td>0.000000</td>\n",
       "      <td>0.000000</td>\n",
       "      <td>2.666667</td>\n",
       "      <td>0.0</td>\n",
       "      <td>0.000000</td>\n",
       "      <td>3.000000</td>\n",
       "    </tr>\n",
       "    <tr>\n",
       "      <th>February</th>\n",
       "      <td>3.000000</td>\n",
       "      <td>0.0</td>\n",
       "      <td>0.0</td>\n",
       "      <td>2.395500</td>\n",
       "      <td>3.000000</td>\n",
       "      <td>0.000000</td>\n",
       "      <td>0.000000</td>\n",
       "      <td>0.0</td>\n",
       "      <td>1.791000</td>\n",
       "      <td>0.000000</td>\n",
       "    </tr>\n",
       "    <tr>\n",
       "      <th>March</th>\n",
       "      <td>0.000000</td>\n",
       "      <td>0.0</td>\n",
       "      <td>0.0</td>\n",
       "      <td>3.000000</td>\n",
       "      <td>0.000000</td>\n",
       "      <td>3.000000</td>\n",
       "      <td>1.389648</td>\n",
       "      <td>0.0</td>\n",
       "      <td>3.000000</td>\n",
       "      <td>0.000000</td>\n",
       "    </tr>\n",
       "    <tr>\n",
       "      <th>April</th>\n",
       "      <td>0.000000</td>\n",
       "      <td>0.0</td>\n",
       "      <td>0.0</td>\n",
       "      <td>3.000000</td>\n",
       "      <td>0.000000</td>\n",
       "      <td>3.000000</td>\n",
       "      <td>3.000000</td>\n",
       "      <td>0.0</td>\n",
       "      <td>1.596856</td>\n",
       "      <td>0.000000</td>\n",
       "    </tr>\n",
       "    <tr>\n",
       "      <th>May</th>\n",
       "      <td>1.804100</td>\n",
       "      <td>0.0</td>\n",
       "      <td>0.0</td>\n",
       "      <td>0.000000</td>\n",
       "      <td>0.000000</td>\n",
       "      <td>0.000000</td>\n",
       "      <td>3.000000</td>\n",
       "      <td>0.0</td>\n",
       "      <td>3.000000</td>\n",
       "      <td>3.000000</td>\n",
       "    </tr>\n",
       "    <tr>\n",
       "      <th>June</th>\n",
       "      <td>3.000000</td>\n",
       "      <td>0.0</td>\n",
       "      <td>0.0</td>\n",
       "      <td>0.000000</td>\n",
       "      <td>0.000000</td>\n",
       "      <td>0.000000</td>\n",
       "      <td>3.000000</td>\n",
       "      <td>0.0</td>\n",
       "      <td>2.020172</td>\n",
       "      <td>3.000000</td>\n",
       "    </tr>\n",
       "    <tr>\n",
       "      <th>July</th>\n",
       "      <td>1.123777</td>\n",
       "      <td>0.0</td>\n",
       "      <td>0.0</td>\n",
       "      <td>3.000000</td>\n",
       "      <td>1.123777</td>\n",
       "      <td>0.000000</td>\n",
       "      <td>3.000000</td>\n",
       "      <td>0.0</td>\n",
       "      <td>3.000000</td>\n",
       "      <td>0.000000</td>\n",
       "    </tr>\n",
       "    <tr>\n",
       "      <th>August</th>\n",
       "      <td>3.000000</td>\n",
       "      <td>0.0</td>\n",
       "      <td>0.0</td>\n",
       "      <td>1.827294</td>\n",
       "      <td>0.000000</td>\n",
       "      <td>0.654588</td>\n",
       "      <td>0.000000</td>\n",
       "      <td>0.0</td>\n",
       "      <td>3.000000</td>\n",
       "      <td>3.000000</td>\n",
       "    </tr>\n",
       "    <tr>\n",
       "      <th>September</th>\n",
       "      <td>1.362933</td>\n",
       "      <td>0.0</td>\n",
       "      <td>0.0</td>\n",
       "      <td>3.000000</td>\n",
       "      <td>0.000000</td>\n",
       "      <td>3.000000</td>\n",
       "      <td>0.000000</td>\n",
       "      <td>0.0</td>\n",
       "      <td>3.000000</td>\n",
       "      <td>1.362933</td>\n",
       "    </tr>\n",
       "    <tr>\n",
       "      <th>October</th>\n",
       "      <td>0.000000</td>\n",
       "      <td>0.0</td>\n",
       "      <td>0.0</td>\n",
       "      <td>3.000000</td>\n",
       "      <td>0.000000</td>\n",
       "      <td>3.000000</td>\n",
       "      <td>3.000000</td>\n",
       "      <td>0.0</td>\n",
       "      <td>0.000000</td>\n",
       "      <td>2.955475</td>\n",
       "    </tr>\n",
       "    <tr>\n",
       "      <th>November</th>\n",
       "      <td>3.000000</td>\n",
       "      <td>0.0</td>\n",
       "      <td>0.0</td>\n",
       "      <td>2.056421</td>\n",
       "      <td>0.000000</td>\n",
       "      <td>1.112842</td>\n",
       "      <td>3.000000</td>\n",
       "      <td>0.0</td>\n",
       "      <td>0.000000</td>\n",
       "      <td>3.000000</td>\n",
       "    </tr>\n",
       "    <tr>\n",
       "      <th>December</th>\n",
       "      <td>3.000000</td>\n",
       "      <td>3.0</td>\n",
       "      <td>0.0</td>\n",
       "      <td>0.427951</td>\n",
       "      <td>3.000000</td>\n",
       "      <td>0.000000</td>\n",
       "      <td>0.000000</td>\n",
       "      <td>0.0</td>\n",
       "      <td>0.000000</td>\n",
       "      <td>3.000000</td>\n",
       "    </tr>\n",
       "  </tbody>\n",
       "</table>\n",
       "</div>"
      ],
      "text/plain": [
       "              Print   TV  SEO   AdWords  Facebook  LinkedIn  Instagram  \\\n",
       "January    3.000000  0.0  0.0  1.333333  0.000000  0.000000   2.666667   \n",
       "February   3.000000  0.0  0.0  2.395500  3.000000  0.000000   0.000000   \n",
       "March      0.000000  0.0  0.0  3.000000  0.000000  3.000000   1.389648   \n",
       "April      0.000000  0.0  0.0  3.000000  0.000000  3.000000   3.000000   \n",
       "May        1.804100  0.0  0.0  0.000000  0.000000  0.000000   3.000000   \n",
       "June       3.000000  0.0  0.0  0.000000  0.000000  0.000000   3.000000   \n",
       "July       1.123777  0.0  0.0  3.000000  1.123777  0.000000   3.000000   \n",
       "August     3.000000  0.0  0.0  1.827294  0.000000  0.654588   0.000000   \n",
       "September  1.362933  0.0  0.0  3.000000  0.000000  3.000000   0.000000   \n",
       "October    0.000000  0.0  0.0  3.000000  0.000000  3.000000   3.000000   \n",
       "November   3.000000  0.0  0.0  2.056421  0.000000  1.112842   3.000000   \n",
       "December   3.000000  3.0  0.0  0.427951  3.000000  0.000000   0.000000   \n",
       "\n",
       "           Snapchat   Twitter     Email  \n",
       "January         0.0  0.000000  3.000000  \n",
       "February        0.0  1.791000  0.000000  \n",
       "March           0.0  3.000000  0.000000  \n",
       "April           0.0  1.596856  0.000000  \n",
       "May             0.0  3.000000  3.000000  \n",
       "June            0.0  2.020172  3.000000  \n",
       "July            0.0  3.000000  0.000000  \n",
       "August          0.0  3.000000  3.000000  \n",
       "September       0.0  3.000000  1.362933  \n",
       "October         0.0  0.000000  2.955475  \n",
       "November        0.0  0.000000  3.000000  \n",
       "December        0.0  0.000000  3.000000  "
      ]
     },
     "execution_count": 143,
     "metadata": {},
     "output_type": "execute_result"
    }
   ],
   "source": [
    "optimal_obj_val\n",
    "monthly_allocation = pd.DataFrame(optimal_variable_vals).rename(index = {0 :'January', 1:'February', 2: 'March', 3:'April', 4:'May', 5:'June', 6:'July', 7:'August', 8:'September', 9:'October', 10:'November', 11: 'December'})\n",
    "monthly_allocation.columns = ROI_data.columns[1:]\n",
    "monthly_allocation"
   ]
  },
  {
   "cell_type": "code",
   "execution_count": 147,
   "id": "80651f9d",
   "metadata": {},
   "outputs": [
    {
     "data": {
      "text/html": [
       "<div>\n",
       "<style scoped>\n",
       "    .dataframe tbody tr th:only-of-type {\n",
       "        vertical-align: middle;\n",
       "    }\n",
       "\n",
       "    .dataframe tbody tr th {\n",
       "        vertical-align: top;\n",
       "    }\n",
       "\n",
       "    .dataframe thead th {\n",
       "        text-align: right;\n",
       "    }\n",
       "</style>\n",
       "<table border=\"1\" class=\"dataframe\">\n",
       "  <thead>\n",
       "    <tr style=\"text-align: right;\">\n",
       "      <th></th>\n",
       "      <th>Print</th>\n",
       "      <th>TV</th>\n",
       "      <th>SEO</th>\n",
       "      <th>AdWords</th>\n",
       "      <th>Facebook</th>\n",
       "      <th>LinkedIn</th>\n",
       "      <th>Instagram</th>\n",
       "      <th>Snapchat</th>\n",
       "      <th>Twitter</th>\n",
       "      <th>Email</th>\n",
       "      <th>Max_ROI</th>\n",
       "      <th>Monthly_budget</th>\n",
       "    </tr>\n",
       "  </thead>\n",
       "  <tbody>\n",
       "    <tr>\n",
       "      <th>January</th>\n",
       "      <td>3.000000</td>\n",
       "      <td>0.0</td>\n",
       "      <td>0.0</td>\n",
       "      <td>1.333333</td>\n",
       "      <td>0.000000</td>\n",
       "      <td>0.000000</td>\n",
       "      <td>2.666667</td>\n",
       "      <td>0.0</td>\n",
       "      <td>0.000000</td>\n",
       "      <td>3.000000</td>\n",
       "      <td>37.300000</td>\n",
       "      <td>10.000000</td>\n",
       "    </tr>\n",
       "    <tr>\n",
       "      <th>February</th>\n",
       "      <td>3.000000</td>\n",
       "      <td>0.0</td>\n",
       "      <td>0.0</td>\n",
       "      <td>2.395500</td>\n",
       "      <td>3.000000</td>\n",
       "      <td>0.000000</td>\n",
       "      <td>0.000000</td>\n",
       "      <td>0.0</td>\n",
       "      <td>1.791000</td>\n",
       "      <td>0.000000</td>\n",
       "      <td>40.629600</td>\n",
       "      <td>10.186500</td>\n",
       "    </tr>\n",
       "    <tr>\n",
       "      <th>March</th>\n",
       "      <td>0.000000</td>\n",
       "      <td>0.0</td>\n",
       "      <td>0.0</td>\n",
       "      <td>3.000000</td>\n",
       "      <td>0.000000</td>\n",
       "      <td>3.000000</td>\n",
       "      <td>1.389648</td>\n",
       "      <td>0.0</td>\n",
       "      <td>3.000000</td>\n",
       "      <td>0.000000</td>\n",
       "      <td>41.441698</td>\n",
       "      <td>10.389648</td>\n",
       "    </tr>\n",
       "    <tr>\n",
       "      <th>April</th>\n",
       "      <td>0.000000</td>\n",
       "      <td>0.0</td>\n",
       "      <td>0.0</td>\n",
       "      <td>3.000000</td>\n",
       "      <td>0.000000</td>\n",
       "      <td>3.000000</td>\n",
       "      <td>3.000000</td>\n",
       "      <td>0.0</td>\n",
       "      <td>1.596856</td>\n",
       "      <td>0.000000</td>\n",
       "      <td>41.448683</td>\n",
       "      <td>10.596856</td>\n",
       "    </tr>\n",
       "    <tr>\n",
       "      <th>May</th>\n",
       "      <td>1.804100</td>\n",
       "      <td>0.0</td>\n",
       "      <td>0.0</td>\n",
       "      <td>0.000000</td>\n",
       "      <td>0.000000</td>\n",
       "      <td>0.000000</td>\n",
       "      <td>3.000000</td>\n",
       "      <td>0.0</td>\n",
       "      <td>3.000000</td>\n",
       "      <td>3.000000</td>\n",
       "      <td>43.214350</td>\n",
       "      <td>10.804100</td>\n",
       "    </tr>\n",
       "    <tr>\n",
       "      <th>June</th>\n",
       "      <td>3.000000</td>\n",
       "      <td>0.0</td>\n",
       "      <td>0.0</td>\n",
       "      <td>0.000000</td>\n",
       "      <td>0.000000</td>\n",
       "      <td>0.000000</td>\n",
       "      <td>3.000000</td>\n",
       "      <td>0.0</td>\n",
       "      <td>2.020172</td>\n",
       "      <td>3.000000</td>\n",
       "      <td>45.476652</td>\n",
       "      <td>11.020172</td>\n",
       "    </tr>\n",
       "    <tr>\n",
       "      <th>July</th>\n",
       "      <td>1.123777</td>\n",
       "      <td>0.0</td>\n",
       "      <td>0.0</td>\n",
       "      <td>3.000000</td>\n",
       "      <td>1.123777</td>\n",
       "      <td>0.000000</td>\n",
       "      <td>3.000000</td>\n",
       "      <td>0.0</td>\n",
       "      <td>3.000000</td>\n",
       "      <td>0.000000</td>\n",
       "      <td>46.865464</td>\n",
       "      <td>11.247555</td>\n",
       "    </tr>\n",
       "    <tr>\n",
       "      <th>August</th>\n",
       "      <td>3.000000</td>\n",
       "      <td>0.0</td>\n",
       "      <td>0.0</td>\n",
       "      <td>1.827294</td>\n",
       "      <td>0.000000</td>\n",
       "      <td>0.654588</td>\n",
       "      <td>0.000000</td>\n",
       "      <td>0.0</td>\n",
       "      <td>3.000000</td>\n",
       "      <td>3.000000</td>\n",
       "      <td>48.796611</td>\n",
       "      <td>11.481882</td>\n",
       "    </tr>\n",
       "    <tr>\n",
       "      <th>September</th>\n",
       "      <td>1.362933</td>\n",
       "      <td>0.0</td>\n",
       "      <td>0.0</td>\n",
       "      <td>3.000000</td>\n",
       "      <td>0.000000</td>\n",
       "      <td>3.000000</td>\n",
       "      <td>0.000000</td>\n",
       "      <td>0.0</td>\n",
       "      <td>3.000000</td>\n",
       "      <td>1.362933</td>\n",
       "      <td>45.921995</td>\n",
       "      <td>11.725865</td>\n",
       "    </tr>\n",
       "    <tr>\n",
       "      <th>October</th>\n",
       "      <td>0.000000</td>\n",
       "      <td>0.0</td>\n",
       "      <td>0.0</td>\n",
       "      <td>3.000000</td>\n",
       "      <td>0.000000</td>\n",
       "      <td>3.000000</td>\n",
       "      <td>3.000000</td>\n",
       "      <td>0.0</td>\n",
       "      <td>0.000000</td>\n",
       "      <td>2.955475</td>\n",
       "      <td>42.757521</td>\n",
       "      <td>11.955475</td>\n",
       "    </tr>\n",
       "    <tr>\n",
       "      <th>November</th>\n",
       "      <td>3.000000</td>\n",
       "      <td>0.0</td>\n",
       "      <td>0.0</td>\n",
       "      <td>2.056421</td>\n",
       "      <td>0.000000</td>\n",
       "      <td>1.112842</td>\n",
       "      <td>3.000000</td>\n",
       "      <td>0.0</td>\n",
       "      <td>0.000000</td>\n",
       "      <td>3.000000</td>\n",
       "      <td>51.737557</td>\n",
       "      <td>12.169263</td>\n",
       "    </tr>\n",
       "    <tr>\n",
       "      <th>December</th>\n",
       "      <td>3.000000</td>\n",
       "      <td>3.0</td>\n",
       "      <td>0.0</td>\n",
       "      <td>0.427951</td>\n",
       "      <td>3.000000</td>\n",
       "      <td>0.000000</td>\n",
       "      <td>0.000000</td>\n",
       "      <td>0.0</td>\n",
       "      <td>0.000000</td>\n",
       "      <td>3.000000</td>\n",
       "      <td>51.683417</td>\n",
       "      <td>12.427951</td>\n",
       "    </tr>\n",
       "  </tbody>\n",
       "</table>\n",
       "</div>"
      ],
      "text/plain": [
       "              Print   TV  SEO   AdWords  Facebook  LinkedIn  Instagram  \\\n",
       "January    3.000000  0.0  0.0  1.333333  0.000000  0.000000   2.666667   \n",
       "February   3.000000  0.0  0.0  2.395500  3.000000  0.000000   0.000000   \n",
       "March      0.000000  0.0  0.0  3.000000  0.000000  3.000000   1.389648   \n",
       "April      0.000000  0.0  0.0  3.000000  0.000000  3.000000   3.000000   \n",
       "May        1.804100  0.0  0.0  0.000000  0.000000  0.000000   3.000000   \n",
       "June       3.000000  0.0  0.0  0.000000  0.000000  0.000000   3.000000   \n",
       "July       1.123777  0.0  0.0  3.000000  1.123777  0.000000   3.000000   \n",
       "August     3.000000  0.0  0.0  1.827294  0.000000  0.654588   0.000000   \n",
       "September  1.362933  0.0  0.0  3.000000  0.000000  3.000000   0.000000   \n",
       "October    0.000000  0.0  0.0  3.000000  0.000000  3.000000   3.000000   \n",
       "November   3.000000  0.0  0.0  2.056421  0.000000  1.112842   3.000000   \n",
       "December   3.000000  3.0  0.0  0.427951  3.000000  0.000000   0.000000   \n",
       "\n",
       "           Snapchat   Twitter     Email    Max_ROI  Monthly_budget  \n",
       "January         0.0  0.000000  3.000000  37.300000       10.000000  \n",
       "February        0.0  1.791000  0.000000  40.629600       10.186500  \n",
       "March           0.0  3.000000  0.000000  41.441698       10.389648  \n",
       "April           0.0  1.596856  0.000000  41.448683       10.596856  \n",
       "May             0.0  3.000000  3.000000  43.214350       10.804100  \n",
       "June            0.0  2.020172  3.000000  45.476652       11.020172  \n",
       "July            0.0  3.000000  0.000000  46.865464       11.247555  \n",
       "August          0.0  3.000000  3.000000  48.796611       11.481882  \n",
       "September       0.0  3.000000  1.362933  45.921995       11.725865  \n",
       "October         0.0  0.000000  2.955475  42.757521       11.955475  \n",
       "November        0.0  0.000000  3.000000  51.737557       12.169263  \n",
       "December        0.0  0.000000  3.000000  51.683417       12.427951  "
      ]
     },
     "execution_count": 147,
     "metadata": {},
     "output_type": "execute_result"
    }
   ],
   "source": [
    "monthly_allocation['Monthly_budget'] = monthly_budget\n",
    "monthly_allocation['Max_ROI'] = optimal_obj_val\n",
    "monthly_allocation"
   ]
  },
  {
   "cell_type": "code",
   "execution_count": 190,
   "id": "3f41f542",
   "metadata": {},
   "outputs": [],
   "source": [
    "change = np.zeros((12,10))\n",
    "monthly_allocation_array = np.array(monthly_allocation)\n",
    "for month in range(0, len(monthly_allocation_array)-1):\n",
    "    for platform in range(len(monthly_allocation_array)-2):\n",
    "        change[month,platform] = (monthly_allocation_array[month+1,platform] - monthly_allocation_array[month,platform])\n",
    "        "
   ]
  },
  {
   "cell_type": "code",
   "execution_count": 202,
   "id": "35052747",
   "metadata": {},
   "outputs": [
    {
     "data": {
      "text/html": [
       "<div>\n",
       "<style scoped>\n",
       "    .dataframe tbody tr th:only-of-type {\n",
       "        vertical-align: middle;\n",
       "    }\n",
       "\n",
       "    .dataframe tbody tr th {\n",
       "        vertical-align: top;\n",
       "    }\n",
       "\n",
       "    .dataframe thead th {\n",
       "        text-align: right;\n",
       "    }\n",
       "</style>\n",
       "<table border=\"1\" class=\"dataframe\">\n",
       "  <thead>\n",
       "    <tr style=\"text-align: right;\">\n",
       "      <th></th>\n",
       "      <th>Print</th>\n",
       "      <th>TV</th>\n",
       "      <th>SEO</th>\n",
       "      <th>AdWords</th>\n",
       "      <th>Facebook</th>\n",
       "      <th>LinkedIn</th>\n",
       "      <th>Instagram</th>\n",
       "      <th>Snapchat</th>\n",
       "      <th>Twitter</th>\n",
       "      <th>Email</th>\n",
       "    </tr>\n",
       "  </thead>\n",
       "  <tbody>\n",
       "    <tr>\n",
       "      <th>January</th>\n",
       "      <td>NaN</td>\n",
       "      <td>NaN</td>\n",
       "      <td>NaN</td>\n",
       "      <td>NaN</td>\n",
       "      <td>NaN</td>\n",
       "      <td>NaN</td>\n",
       "      <td>NaN</td>\n",
       "      <td>NaN</td>\n",
       "      <td>NaN</td>\n",
       "      <td>NaN</td>\n",
       "    </tr>\n",
       "    <tr>\n",
       "      <th>February</th>\n",
       "      <td>0.000000</td>\n",
       "      <td>0.0</td>\n",
       "      <td>0.0</td>\n",
       "      <td>1.062167</td>\n",
       "      <td>3.000000</td>\n",
       "      <td>0.000000</td>\n",
       "      <td>-2.666667</td>\n",
       "      <td>0.0</td>\n",
       "      <td>1.791000</td>\n",
       "      <td>-3.000000</td>\n",
       "    </tr>\n",
       "    <tr>\n",
       "      <th>March</th>\n",
       "      <td>-3.000000</td>\n",
       "      <td>0.0</td>\n",
       "      <td>0.0</td>\n",
       "      <td>0.604500</td>\n",
       "      <td>-3.000000</td>\n",
       "      <td>3.000000</td>\n",
       "      <td>1.389648</td>\n",
       "      <td>0.0</td>\n",
       "      <td>1.209000</td>\n",
       "      <td>0.000000</td>\n",
       "    </tr>\n",
       "    <tr>\n",
       "      <th>April</th>\n",
       "      <td>0.000000</td>\n",
       "      <td>0.0</td>\n",
       "      <td>0.0</td>\n",
       "      <td>0.000000</td>\n",
       "      <td>0.000000</td>\n",
       "      <td>0.000000</td>\n",
       "      <td>1.610352</td>\n",
       "      <td>0.0</td>\n",
       "      <td>-1.403144</td>\n",
       "      <td>0.000000</td>\n",
       "    </tr>\n",
       "    <tr>\n",
       "      <th>May</th>\n",
       "      <td>1.804100</td>\n",
       "      <td>0.0</td>\n",
       "      <td>0.0</td>\n",
       "      <td>-3.000000</td>\n",
       "      <td>0.000000</td>\n",
       "      <td>-3.000000</td>\n",
       "      <td>0.000000</td>\n",
       "      <td>0.0</td>\n",
       "      <td>1.403144</td>\n",
       "      <td>3.000000</td>\n",
       "    </tr>\n",
       "    <tr>\n",
       "      <th>June</th>\n",
       "      <td>1.195900</td>\n",
       "      <td>0.0</td>\n",
       "      <td>0.0</td>\n",
       "      <td>0.000000</td>\n",
       "      <td>0.000000</td>\n",
       "      <td>0.000000</td>\n",
       "      <td>0.000000</td>\n",
       "      <td>0.0</td>\n",
       "      <td>-0.979828</td>\n",
       "      <td>0.000000</td>\n",
       "    </tr>\n",
       "    <tr>\n",
       "      <th>July</th>\n",
       "      <td>-1.876223</td>\n",
       "      <td>0.0</td>\n",
       "      <td>0.0</td>\n",
       "      <td>3.000000</td>\n",
       "      <td>1.123777</td>\n",
       "      <td>0.000000</td>\n",
       "      <td>0.000000</td>\n",
       "      <td>0.0</td>\n",
       "      <td>0.979828</td>\n",
       "      <td>-3.000000</td>\n",
       "    </tr>\n",
       "    <tr>\n",
       "      <th>August</th>\n",
       "      <td>1.876223</td>\n",
       "      <td>0.0</td>\n",
       "      <td>0.0</td>\n",
       "      <td>-1.172706</td>\n",
       "      <td>-1.123777</td>\n",
       "      <td>0.654588</td>\n",
       "      <td>-3.000000</td>\n",
       "      <td>0.0</td>\n",
       "      <td>0.000000</td>\n",
       "      <td>3.000000</td>\n",
       "    </tr>\n",
       "    <tr>\n",
       "      <th>September</th>\n",
       "      <td>-1.637067</td>\n",
       "      <td>0.0</td>\n",
       "      <td>0.0</td>\n",
       "      <td>1.172706</td>\n",
       "      <td>0.000000</td>\n",
       "      <td>2.345412</td>\n",
       "      <td>0.000000</td>\n",
       "      <td>0.0</td>\n",
       "      <td>0.000000</td>\n",
       "      <td>-1.637067</td>\n",
       "    </tr>\n",
       "    <tr>\n",
       "      <th>October</th>\n",
       "      <td>-1.362933</td>\n",
       "      <td>0.0</td>\n",
       "      <td>0.0</td>\n",
       "      <td>0.000000</td>\n",
       "      <td>0.000000</td>\n",
       "      <td>0.000000</td>\n",
       "      <td>3.000000</td>\n",
       "      <td>0.0</td>\n",
       "      <td>-3.000000</td>\n",
       "      <td>1.592543</td>\n",
       "    </tr>\n",
       "    <tr>\n",
       "      <th>November</th>\n",
       "      <td>3.000000</td>\n",
       "      <td>0.0</td>\n",
       "      <td>0.0</td>\n",
       "      <td>-0.943579</td>\n",
       "      <td>0.000000</td>\n",
       "      <td>-1.887158</td>\n",
       "      <td>0.000000</td>\n",
       "      <td>0.0</td>\n",
       "      <td>0.000000</td>\n",
       "      <td>0.044525</td>\n",
       "    </tr>\n",
       "    <tr>\n",
       "      <th>December</th>\n",
       "      <td>0.000000</td>\n",
       "      <td>3.0</td>\n",
       "      <td>0.0</td>\n",
       "      <td>-1.628470</td>\n",
       "      <td>3.000000</td>\n",
       "      <td>-1.112842</td>\n",
       "      <td>-3.000000</td>\n",
       "      <td>0.0</td>\n",
       "      <td>0.000000</td>\n",
       "      <td>0.000000</td>\n",
       "    </tr>\n",
       "  </tbody>\n",
       "</table>\n",
       "</div>"
      ],
      "text/plain": [
       "              Print   TV  SEO   AdWords  Facebook  LinkedIn  Instagram  \\\n",
       "January         NaN  NaN  NaN       NaN       NaN       NaN        NaN   \n",
       "February   0.000000  0.0  0.0  1.062167  3.000000  0.000000  -2.666667   \n",
       "March     -3.000000  0.0  0.0  0.604500 -3.000000  3.000000   1.389648   \n",
       "April      0.000000  0.0  0.0  0.000000  0.000000  0.000000   1.610352   \n",
       "May        1.804100  0.0  0.0 -3.000000  0.000000 -3.000000   0.000000   \n",
       "June       1.195900  0.0  0.0  0.000000  0.000000  0.000000   0.000000   \n",
       "July      -1.876223  0.0  0.0  3.000000  1.123777  0.000000   0.000000   \n",
       "August     1.876223  0.0  0.0 -1.172706 -1.123777  0.654588  -3.000000   \n",
       "September -1.637067  0.0  0.0  1.172706  0.000000  2.345412   0.000000   \n",
       "October   -1.362933  0.0  0.0  0.000000  0.000000  0.000000   3.000000   \n",
       "November   3.000000  0.0  0.0 -0.943579  0.000000 -1.887158   0.000000   \n",
       "December   0.000000  3.0  0.0 -1.628470  3.000000 -1.112842  -3.000000   \n",
       "\n",
       "           Snapchat   Twitter     Email  \n",
       "January         NaN       NaN       NaN  \n",
       "February        0.0  1.791000 -3.000000  \n",
       "March           0.0  1.209000  0.000000  \n",
       "April           0.0 -1.403144  0.000000  \n",
       "May             0.0  1.403144  3.000000  \n",
       "June            0.0 -0.979828  0.000000  \n",
       "July            0.0  0.979828 -3.000000  \n",
       "August          0.0  0.000000  3.000000  \n",
       "September       0.0  0.000000 -1.637067  \n",
       "October         0.0 -3.000000  1.592543  \n",
       "November        0.0  0.000000  0.044525  \n",
       "December        0.0  0.000000  0.000000  "
      ]
     },
     "execution_count": 202,
     "metadata": {},
     "output_type": "execute_result"
    }
   ],
   "source": [
    "change_per_platform = pd.DataFrame(change).rename(index = {0 :'January', 1:'February', 2: 'March', 3:'April', 4:'May', 5:'June', 6:'July', 7:'August', 8:'September', 9:'October', 10:'November', 11: 'December'})\n",
    "change_per_platform.columns = ROI_data.columns[1:]\n",
    "change_per_platform.shift(periods = 1)"
   ]
  },
  {
   "cell_type": "code",
   "execution_count": null,
   "id": "c3999eac",
   "metadata": {},
   "outputs": [],
   "source": [
    "It is not stable budget "
   ]
  }
 ],
 "metadata": {
  "kernelspec": {
   "display_name": "Python 3 (ipykernel)",
   "language": "python",
   "name": "python3"
  },
  "language_info": {
   "codemirror_mode": {
    "name": "ipython",
    "version": 3
   },
   "file_extension": ".py",
   "mimetype": "text/x-python",
   "name": "python",
   "nbconvert_exporter": "python",
   "pygments_lexer": "ipython3",
   "version": "3.9.12"
  }
 },
 "nbformat": 4,
 "nbformat_minor": 5
}
